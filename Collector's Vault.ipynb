{
 "cells": [
  {
   "cell_type": "markdown",
   "metadata": {},
   "source": [
    "<a id=\"simulating-the-collectors-vault\"></a>\n",
    "# simulating the collector's vault \n",
    "\n",
    "The Marvel Future Fight Collector's Vault is the subject of plenty of advice and\n",
    "warnings (like [this one](https://www.reddit.com/r/future_fight/comments/ch8719/this_is_what_25200000_gold_gets_you_in_the/)\n",
    "and [this one](https://www.reddit.com/r/future_fight/comments/b0fwtc/collectors_vault_winnings/)). Whether it's a reasonable way to spend gold (if you've got plenty) or just a way to waste it is up for debate. However, an event that you can play at most two times on one day every few weeks is difficult to evaluate by just discussing in the forums. The mechanisms of the event make theoretical statistical considerations [fairly complicated](#why-we-simulate). So, let's simulate it and see what we get.\n",
    "\n",
    "(For those not at all interested in \"how\" or \"why\" and who just want an answer: [should you play Collector's Vault?](#should-you-play-collectors-vault))\n",
    "\n",
    "## vault types\n",
    "\n",
    "There have been different variations on the Collector's Vault; the current\n",
    "incarnation as of this writing is described at \n",
    "[the announcement for the July 2022 Collector's Vault](https://forum.netmarble.com/futurefight_en/view/76/1762161), \n",
    "and it's been in this format since at least January 2022. There is a \"Personal\n",
    "Vault\" where you're *almost* guaranteed to get a 4\\* artifact, and there are\n",
    "\"General Vaults\" where you and up to 1,500 other players each try to get a\n",
    "single C.T.P of Veteran or 6\\* artifact. This latter kind is the most like older\n",
    "versions of the Collector's Vault; the major changes in the latest version is a\n",
    "somewhat lower cost per turn, more opportunities throughout the day to choose a\n",
    "Vault to \"open\", and fewer players allowed in each Vault. It's also the first\n",
    "version in which Netmarble has made the mechanism and probabilities explict,\n",
    "allowing us to program a simulation.\n",
    "\n",
    "The General Vaults are of two types:\n",
    "\n",
    "### general vault - c.t.p. of veteran\n",
    "\n",
    "| Item | Purchase Limit |Acquisition Chance |\n",
    "|------|----------------|-------------------|\n",
    "| Norn Stone of each type x15 | 110000 | 23.6280% |\n",
    "| Rank 1 Black Anti-Matter x5 | 110000 | 15.7520% |\n",
    "| Norn Stone of Chaos x5 | 110000 | 15.7520% |\n",
    "| Gear Up Kit x25 | 110000 | 11.8140% |\n",
    "| Dimension Debris x30 | 110000 | 11.8140% |\n",
    "| 3* Type Enhancement Kit x3 | 110000 | 14.6996% |\n",
    "| 3* Enchanted Uru x1 | 110000 | 6.2999% |\n",
    "| Tier-2 Mega Advancement Ticket x1 | 5 | 0.0005% |\n",
    "| Titan Component Pack x40 | No limit | 0.1248% |\n",
    "| Essence of Dimension x50 | No limit | 0.0720% |\n",
    "| Cosmic Cube Fragment x60 | No limit | 0.0360% |\n",
    "| Extreme Obelisk x1 | No limit | 0.0072% |\n",
    "\n",
    "### general vault - 6* exclusive passive skill artifact\n",
    "| Item | Purchase Limit |Acquisition Chance |\n",
    "|------|----------------|-------------------|\n",
    "| Gear Up Kit x20 | 110000 | 23.6280% |\n",
    "| Dimension Debris x20 | 110000 | 15.7520% |\n",
    "| Norn Stone of each type x15 | 110000 | 15.7520% |\n",
    "| Rank 1 Black Anti-Matter x5 | 110000 | 11.8140% |\n",
    "| Norn Stone of Chaos x5 | 110000 | 11.8140% |\n",
    "| 3* ISO-8 x1 | 110000 | 14.6996% |\n",
    "| Lv. 2 Artifact x1 | 110000 | 6.2999% |\n",
    "| Mega Uniform Upgrade Ticket: Mythic x1 | 5 | 0.0005% |\n",
    "| Essence of Dimension x40 | No limit | 0.1248% |\n",
    "| Cosmic Cube Fragement x50 | No limit | 0.0720% |\n",
    "| Titan Component Pack x60 | No limit | 0.0360% |\n",
    "| 6* Rank Up Ticket x1 | No limit | 0.0072% |\n",
    "\n",
    "Even though the prizes each turn are different, the stats are the same; for instance, the second entry in the list has a 15.7520% chance of being received, whether it's 5 Rank 1 Black Anti-Matter or 20 Dimension Debris. This means simulating the two can be done the same way, and the only change is the specific prizes you might get in the end. We'll come back to this in [making decisions](#making-decisions).\n",
    "\n"
   ]
  },
  {
   "cell_type": "markdown",
   "metadata": {},
   "source": [
    "<a id=\"how-the-vault-and-the-simulation-works\"></a>\n",
    "## how the vault (and the simulation) works\n",
    "\n",
    "### the assumptions\n",
    "\n",
    "For our simulation, we must make a few assumptions. First, we assume that people are all taking about the same number of turns, that is, that they aren't acquiring items more quickly or more slowly than anyone else. This isn't true even if they're using the \"auto purchase\" method (which, for that matter, depends on the connection to Netmarble's servers). If someone is going more slowly than you, however, they'll spend less but are necessarily also less likely to win the big prize---so you're at your worst luck when everyone is going as fast as you are. We're trying to set realistic expectations, and don't want to be unnecessarily \"hopeful\", so we'll use this \"worst case\" for our simulation. For the same reason, we're assuming everyone started right away when the Vault opened and that it maxed out the number of users. Finally we assume that at some point the Vault closes. Although it's not realistic, we allow up to 3600*100 turns, or the equivalent of 100 turns per second for the hour that the Vault is open."
   ]
  },
  {
   "cell_type": "markdown",
   "metadata": {},
   "source": [
    "### coding the simulation\n",
    "\n",
    "Python isn't the fastest, but it's pretty easy to read and throw together without being too clever. Let's build up the simulation code while talking about the mechanism of the Vault.\n",
    "\n",
    "First, we'll note the number of users allowed in each Vault and how much gold you need for each \"turn\", that is, each time you want to buy an item."
   ]
  },
  {
   "cell_type": "code",
   "execution_count": 1,
   "metadata": {},
   "outputs": [],
   "source": [
    "users = 1500\n",
    "price = 25000"
   ]
  },
  {
   "cell_type": "markdown",
   "metadata": {},
   "source": [
    "As we noted, we can use either of the General Vaults to check the statistics and run the simulation. We'll store the details for each of them and can decide [later](#making-decisions) if one's better than the other."
   ]
  },
  {
   "cell_type": "code",
   "execution_count": 2,
   "metadata": {},
   "outputs": [],
   "source": [
    "inf = float('inf') # this is just a shortcut for those items that have no limit\n",
    "\n",
    "# item description, number available, probability\n",
    "ctp_items = [\n",
    "    (\"Norn Stone of each type x15\", 110000, 0.236280),\n",
    "    (\"Rank 1 Black Anti-Matter x5\", 110000, 0.157520),\n",
    "    (\"Norn Stone of Chaos x5\", 110000, .157520),\n",
    "    (\"Gear Up Kit x25\", 110000,.118140),\n",
    "    (\"Dimension Debris x30\", 110000, .118140),\n",
    "    (\"3* Type Enhancement Kit x3\", 110000, .146996),\n",
    "    (\"3* Enchanted Uru x1\", 110000, .062999),\n",
    "    (\"Tier-2 Mega Advancement Ticket x1\", 5, 0.000005),\n",
    "    (\"Titan Component Pack x40\", inf, 0.001248 ),\n",
    "    (\"Essence of Dimension x50\", inf, 0.000720),\n",
    "    (\"Cosmic Cube Fragment x60\", inf, 0.000360),\n",
    "    (\"Extreme Obelisk x1\",inf, 0.000072)\n",
    "]\n",
    "\n",
    "artifact_items = [\n",
    "    (\"Gear Up Kit x20\", 110000, 0.236280),\n",
    "    (\"Dimension Debris x20\", 110000, 0.157520),\n",
    "    (\"Norn Stone of each type x15\", 110000, .157520),\n",
    "    (\"Rank 1 Black Anti-Matter x5\", 110000,.118140),\n",
    "    (\"Norn Stone of Chaos x5\", 110000, .118140),\n",
    "    (\"3* ISO-8 x1\", 110000, .146996),\n",
    "    (\"Lv. 2 Artifact x1\", 110000, .062999),\n",
    "    (\"Mega Uniform Upgrade Ticket: Mythic x1\", 5, 0.000005),\n",
    "    (\"Essence of Dimension x40\", inf, 0.001248 ),\n",
    "    (\"Cosmic Cube Fragment x50\", inf, 0.000720),\n",
    "    (\"Titan Component Pack x60\", inf, 0.000360),\n",
    "    (\"6* Rank Up Ticket x1\",inf, 0.000072)\n",
    "]\n"
   ]
  },
  {
   "cell_type": "markdown",
   "metadata": {},
   "source": [
    "Each time you take a \"turn\" to acquire an item, one is randomly selected from the list. As the items with limited quantities run out, the probabilities of getting the other items changes a bit. For instance, take a look at this recent run, with the \"Chance Info\" displayed:\n",
    "\n",
    "![recalculated-probabilities-1](./img/recalculated-probabilities-1.png \"A screenshot showing recalculated probabilities after something sells out\")\n",
    "![recalculated-probabilities-2](./img/recalculated-probabilities-1.png \"A screenshot showing more recalculated probabilities\")\n",
    "![recalculated-probabilities-3](./img/recalculated-probabilities-1.png \"A screenshot showing even more recalculated probabilites\")\n",
    "\n",
    "We'll check for the same thing each time we acquire an item:"
   ]
  },
  {
   "cell_type": "code",
   "execution_count": 3,
   "metadata": {},
   "outputs": [],
   "source": [
    "import random\n",
    "\n",
    "def get_item(round_items):\n",
    "    roll = random.random()\n",
    "    sum_p = 0.0\n",
    "    for i in range(len(round_items)):\n",
    "        (name,num,p) = round_items[i]\n",
    "        if roll < sum_p + p:\n",
    "            if num == 1:\n",
    "                round_items[i] = (name,0,0)\n",
    "                recalc_p(round_items,p)\n",
    "            else:\n",
    "                round_items[i] = (name,num-1,p)\n",
    "            return i\n",
    "        else:\n",
    "            sum_p += p\n",
    "\n",
    "def recalc_p(round_items,p):\n",
    "    remaining_p = 1.0-p\n",
    "    correction = 1 / remaining_p\n",
    "    for i in range(len(round_items)):\n",
    "        (name,num,p) = round_items[i]\n",
    "        round_items[i] = (name,num,p*correction)"
   ]
  },
  {
   "cell_type": "markdown",
   "metadata": {},
   "source": [
    "As soon as one of the users gets all four of the \"memento\" items, the Vault closes and nobody can get any more items. Not coincidentally, the \"memento\" items are those that don't have a limited quantity."
   ]
  },
  {
   "cell_type": "code",
   "execution_count": 4,
   "metadata": {},
   "outputs": [],
   "source": [
    "needed_items = []\n",
    "for i in range(len(ctp_items)):\n",
    "    if ctp_items[i][1] == inf:\n",
    "        needed_items.append(i)\n",
    "\n",
    "def has_needed_items( items ):\n",
    "    for item in needed_items:\n",
    "        if item not in items:\n",
    "            return False\n",
    "    return True"
   ]
  },
  {
   "cell_type": "markdown",
   "metadata": {},
   "source": [
    "We also need to keep track of what items the different users have so that we can determine when someone has all the \"memento\" items (and so that we can tell what items we ended up with). We'll refer to users by number (from 0 to 1499), with \"our\" user as number 0. If it's our turn, we'll keep track of whatever items we have; if it's a different user's turn we'll just keep track if it's one of the memento items. When we're adding this new item to the list of acquired items, we'll take the opportunity at the same time to see if the user's gathered all the mementos."
   ]
  },
  {
   "cell_type": "code",
   "execution_count": 5,
   "metadata": {},
   "outputs": [],
   "source": [
    "user_nums = []\n",
    "for i in range(users):\n",
    "    user_nums.append(i)\n",
    "\n",
    "def add_user_item(user, item, users_items):\n",
    "    if item in needed_items or user == 0:\n",
    "        users_items[user].append(item)\n",
    "        if item in needed_items:\n",
    "            if has_needed_items(users_items[user]):\n",
    "                return True\n",
    "    return False"
   ]
  },
  {
   "cell_type": "markdown",
   "metadata": {},
   "source": [
    "Finally, we set up the simulated \"round\" of the Vault. We start with an empty list of items acquired for each user at the beginning of every vault, and since we are editing the probabilities in the table of items we do that work on a copy. Then on every \"turn\", we shuffle the order in which all the users hit their buttons; we can only calculate one at a time, but we don't want to give the users first in line an advantage. Then each user gets their item and it's added to their acquired items list as above. You'll recall that also checks to see if they've won; if so, our round is over and we can save who the winner was, how many turns we took, and what items we received."
   ]
  },
  {
   "cell_type": "code",
   "execution_count": 6,
   "metadata": {},
   "outputs": [],
   "source": [
    "def do_round():\n",
    "    winner = -1\n",
    "    turns = -1\n",
    "    users_items = [[] for i in range(users)]\n",
    "    round_items = ctp_items.copy()\n",
    "    for turn in range(3600*100):\n",
    "        random.shuffle(user_nums)\n",
    "        for user_num in user_nums:\n",
    "            if add_user_item( user_num, get_item(round_items), users_items):\n",
    "                turns = len(users_items[0])\n",
    "                winner = user_num\n",
    "                break\n",
    "        if turns >= 0:\n",
    "            break\n",
    "    return (winner,turns,users_items[0])"
   ]
  },
  {
   "cell_type": "markdown",
   "metadata": {},
   "source": [
    "### running the simulation\n",
    "\n",
    "Next, we just have to decide how many times we'll run the simulation and what we'll do with the output. Here, we've set it to a modest 10 simulations and we just print the output, which is in the format of a comma-delimited row: the number of the winner, the number of turns our user took, and a list of the indices of all the items our user acquired."
   ]
  },
  {
   "cell_type": "code",
   "execution_count": 7,
   "metadata": {},
   "outputs": [
    {
     "name": "stdout",
     "output_type": "stream",
     "text": [
      "1065,472,\"2,0,0,2,0,4,4,0,4,0,2,6,5,0,0,2,1,1,1,0,0,0,6,5,0,5,2,0,3,0,5,5,3,2,5,0,0,3,1,2,0,1,0,1,3,5,0,0,0,4,0,4,1,6,2,0,1,2,5,3,4,0,5,3,0,4,0,5,3,0,1,4,0,1,0,5,0,6,0,0,3,0,0,3,4,3,4,1,1,6,5,0,0,0,1,4,0,1,1,0,1,0,3,4,4,2,1,4,5,1,5,5,3,2,9,4,0,5,5,0,1,0,0,3,0,0,3,2,3,4,1,0,6,5,5,0,2,1,0,1,3,3,0,4,3,4,0,4,0,0,6,1,4,6,5,0,1,2,0,5,0,6,0,5,5,5,0,0,1,0,5,5,2,2,0,0,1,0,4,0,3,3,3,1,1,5,2,5,3,6,2,3,5,0,2,6,4,2,3,0,1,5,2,0,0,2,0,2,2,0,1,2,6,1,3,1,1,1,4,0,4,0,3,5,5,1,6,5,5,5,6,5,3,1,2,2,4,1,4,3,2,9,5,3,5,4,2,5,0,5,3,0,1,1,4,2,1,0,3,5,5,4,1,0,5,6,6,0,6,5,1,2,1,0,2,0,4,0,0,0,0,4,5,0,5,0,1,4,0,5,2,0,1,0,6,0,2,2,0,2,2,0,0,0,1,0,6,0,1,6,2,1,4,5,5,2,1,5,5,5,6,1,2,5,6,3,1,5,4,1,3,5,5,1,1,3,3,3,5,10,3,5,6,1,3,2,3,6,6,1,1,6,1,2,3,6,2,2,5,2,2,5,4,2,1,4,1,5,4,6,5,5,1,5,2,5,1,4,4,4,4,4,1,1,1,3,5,1,6,2,1,2,3,1,2,6,4,4,3,2,2,3,2,3,1,3,5,2,3,6,2,2,6,3,4,6,5,5,1,4,4,2,3,2,2,3,6,2,4,3,5,4,5,3,3,5,5,3,5,5,4,4,3,3,4,3,4,6,3,4,6,3,4,4,4,6,3,6,4,4,4,4,4,4,4,3,4,6,3,3,3,4\"\n",
      "806,372,\"1,5,4,0,3,3,0,1,1,0,3,2,0,0,3,5,5,0,1,2,2,2,3,3,4,1,3,1,4,1,1,0,6,1,5,5,0,2,4,0,0,4,0,6,5,6,0,3,1,0,1,5,2,0,5,0,5,3,5,1,6,6,0,3,0,5,1,4,0,4,1,4,6,3,5,6,2,6,1,2,0,4,5,4,6,3,5,4,1,6,1,2,3,2,4,0,6,6,0,0,0,6,5,3,3,2,1,0,2,0,3,2,0,0,0,0,1,2,3,1,6,6,0,1,4,4,1,0,6,5,4,1,1,5,3,1,5,5,2,2,3,3,0,4,1,2,4,0,2,4,3,2,0,0,1,0,0,4,5,5,1,0,1,1,1,1,5,1,3,4,2,2,5,2,2,6,5,4,1,4,4,4,3,3,1,0,5,6,0,1,1,6,6,5,5,2,4,1,6,5,1,1,5,1,0,6,8,1,4,2,6,0,4,0,2,2,3,0,5,5,5,1,4,2,5,1,3,1,1,4,3,0,4,5,3,0,0,4,3,5,2,0,0,1,1,1,0,1,0,2,2,1,0,0,0,5,5,0,0,2,0,0,5,1,0,6,0,4,2,1,0,6,0,3,1,0,5,0,6,0,0,2,1,2,5,1,2,2,4,0,0,0,6,0,3,1,2,3,1,2,0,2,1,5,1,2,4,1,0,4,5,1,3,3,1,2,2,1,3,5,1,5,1,1,2,4,5,1,5,3,4,6,5,5,2,1,3,2,5,2,1,4,5,1,3,2,2,1,5,3,3,5,2,1,3,1,1,5,4,3,3,2,1,6,1,1,5,4,1,1,1,1\"\n",
      "819,456,\"1,1,1,0,2,2,1,0,6,3,4,0,0,4,2,2,1,4,0,3,0,3,0,5,4,0,0,0,3,0,2,0,4,3,1,5,4,6,3,2,5,6,1,3,0,4,0,1,0,0,0,1,4,3,2,0,0,1,4,0,5,3,1,2,6,4,0,6,0,5,3,1,4,6,2,6,0,2,0,3,2,0,3,3,2,3,5,1,5,2,1,2,6,2,2,5,3,5,5,4,4,5,0,3,2,2,1,1,0,1,1,5,3,3,5,4,0,5,5,4,1,0,3,6,3,5,4,1,0,0,0,2,5,0,0,0,5,0,5,0,3,8,0,2,5,2,2,0,5,0,2,0,2,4,2,1,3,0,0,1,5,0,3,2,1,1,3,1,2,0,4,0,6,0,2,3,3,2,5,3,0,2,0,6,0,2,5,4,0,2,6,2,0,2,0,5,0,3,1,1,0,0,4,1,2,2,5,0,2,2,6,0,2,0,0,2,4,1,1,1,5,5,1,5,4,2,4,1,4,4,3,0,0,0,5,4,1,0,6,1,4,3,2,3,5,3,0,5,0,3,4,0,5,1,3,1,4,0,4,5,0,1,6,5,5,5,3,6,3,2,4,5,4,6,4,5,2,5,2,1,1,4,2,3,5,2,2,2,5,0,5,0,4,4,0,3,4,3,0,0,6,5,6,0,2,6,0,4,4,1,1,5,5,5,1,5,1,2,2,6,5,1,2,2,5,2,2,6,2,5,1,5,1,5,3,2,6,4,4,2,5,1,1,5,3,6,2,3,5,4,4,2,6,1,5,3,3,1,1,4,4,5,6,1,3,1,2,1,1,1,6,1,2,5,2,1,4,6,5,6,3,5,3,5,4,4,1,2,3,4,5,4,5,5,2,6,2,2,3,4,6,3,2,5,5,1,6,5,4,5,6,3,3,1,2,2,6,3,1,4,2,5,3,3,3,1,3,1,4,4,5,3,3,5,3,3,6,4,6,4,5,5,5,5,6,4,4,3,4,4,3,3,4,4,6,3\"\n",
      "280,445,\"5,2,2,0,6,4,2,1,4,6,3,5,0,6,2,0,0,3,2,4,5,3,1,5,1,5,2,4,3,2,5,4,1,6,5,5,1,2,2,4,1,3,0,6,4,3,0,2,0,2,5,5,1,4,0,0,0,5,0,5,3,0,1,0,3,5,2,4,1,2,4,0,6,1,0,1,4,2,0,5,1,2,4,5,0,4,1,0,6,6,4,5,2,4,5,3,0,0,1,3,6,1,0,0,1,0,0,3,1,2,0,1,1,6,5,1,3,0,4,1,0,4,6,0,5,0,6,3,1,0,0,4,1,2,1,5,3,0,3,1,1,3,1,3,1,6,3,2,2,5,4,3,0,2,3,5,0,0,0,0,1,1,1,3,4,2,4,4,5,0,5,0,1,1,5,5,2,1,4,2,1,5,6,5,2,4,5,1,0,1,1,6,4,3,1,3,1,0,0,0,4,2,4,4,2,1,0,5,0,0,2,0,0,2,1,2,2,6,5,1,1,1,1,0,2,1,2,6,1,5,1,1,0,2,0,5,0,2,1,1,0,1,0,1,1,1,5,0,3,2,1,2,4,1,4,1,0,1,0,4,4,0,0,4,5,5,4,5,1,1,2,1,4,2,1,0,0,2,1,2,2,2,5,0,0,0,0,2,2,5,1,3,0,5,1,0,5,5,1,5,3,2,0,2,0,2,4,6,0,0,1,1,2,1,2,1,1,5,4,1,3,2,5,5,6,2,3,2,3,3,1,5,2,1,3,6,2,2,2,1,5,3,2,4,6,3,5,4,5,5,5,1,2,5,4,2,1,1,3,6,5,2,2,2,2,1,2,2,6,2,4,4,1,5,6,3,2,4,5,4,5,1,1,4,5,1,1,1,4,2,2,5,1,4,6,4,3,3,2,1,5,6,2,4,5,5,4,2,3,1,1,4,3,4,3,2,4,2,2,5,2,5,5,6,1,3,2,4,5,4,5,6,3,3,4,5,6,4,4,4,5,3,5,4,6\"\n",
      "1313,426,\"0,0,2,4,1,4,2,1,1,2,5,3,6,3,3,0,2,5,0,3,0,1,0,4,3,5,0,3,3,3,0,5,0,5,1,5,0,1,5,3,2,6,0,2,6,2,5,6,0,5,0,2,4,0,0,4,6,4,1,0,5,4,1,2,5,5,3,6,3,4,5,5,0,6,4,1,2,2,5,2,3,0,1,4,0,1,0,1,1,2,5,1,5,0,2,2,1,1,1,6,0,1,4,6,5,3,0,1,0,1,2,2,1,2,0,6,1,1,0,1,4,3,6,0,0,2,0,0,0,3,0,5,1,0,4,1,0,2,1,1,4,0,0,5,1,4,0,3,0,5,3,1,3,5,1,1,1,5,3,0,3,1,5,5,5,2,0,0,3,1,1,3,0,1,5,3,2,1,1,0,3,4,1,5,0,6,3,2,2,1,0,2,2,2,2,4,3,0,0,6,1,2,1,4,4,0,6,1,6,1,1,3,0,4,3,5,1,3,0,3,3,5,5,1,4,4,6,1,5,4,4,1,5,0,6,0,5,5,0,0,8,2,3,4,3,5,2,0,5,0,1,0,5,5,0,1,6,0,4,1,3,4,4,4,0,0,4,5,5,1,2,5,0,5,1,2,5,2,1,4,3,5,3,2,4,2,6,3,6,0,6,6,0,6,1,4,5,0,2,6,2,0,0,2,5,2,1,3,0,6,1,2,2,1,6,2,6,4,1,1,5,6,5,2,5,8,3,2,4,5,5,4,2,4,3,4,3,1,3,4,3,5,1,2,3,2,3,1,3,6,1,1,1,3,2,6,1,5,5,2,3,3,2,2,1,2,1,5,1,5,5,4,2,6,6,2,1,2,2,4,1,1,1,3,2,1,3,2,4,5,5,4,4,2,3,5,4,5,3,2,5,2,3,5,6,1,6,5,5,5,6,4,5,2,5,1,3,4,2,3,2,5,1,4,1,5\"\n",
      "372,437,\"0,1,1,1,3,4,6,2,5,0,2,4,4,0,5,5,0,0,5,2,4,2,1,0,0,4,2,0,1,5,2,1,5,0,0,3,5,2,0,3,0,3,2,0,1,4,5,6,0,2,2,3,5,0,2,0,1,1,0,3,4,0,5,4,1,5,3,0,4,1,2,1,5,0,1,4,0,1,0,6,0,5,1,0,6,2,5,0,2,0,0,2,5,2,6,2,5,6,0,3,2,2,2,4,3,0,4,1,4,4,1,6,1,5,0,3,2,0,5,4,6,5,0,3,0,1,5,2,0,3,0,4,1,0,4,4,0,5,0,1,6,4,1,2,2,1,4,1,1,5,0,5,5,2,1,2,5,3,1,4,0,6,0,1,2,6,1,0,0,1,4,5,6,2,0,2,0,4,1,1,0,2,2,1,3,3,0,0,6,1,4,0,4,2,0,1,4,0,0,2,5,1,0,5,2,2,1,3,2,0,3,0,1,5,5,2,4,0,5,5,0,5,5,3,0,2,3,6,2,3,0,2,5,4,6,5,3,6,0,0,0,6,1,4,4,1,0,0,2,1,3,3,0,0,6,5,2,1,1,3,1,0,4,6,0,4,6,5,6,1,5,2,6,4,4,3,0,5,5,5,1,3,5,2,2,0,0,5,2,0,5,5,0,2,3,3,2,3,1,4,2,1,0,5,5,0,3,0,5,2,3,4,1,2,4,1,5,2,2,3,4,2,5,5,2,2,6,4,1,4,1,3,1,2,4,3,4,6,1,2,1,3,1,5,2,4,1,4,3,3,2,3,2,5,4,5,5,2,1,5,5,6,3,4,3,5,3,3,5,4,1,4,1,4,5,5,2,2,2,1,1,4,5,1,2,3,4,2,1,2,2,4,6,5,5,6,2,5,2,3,3,1,3,5,1,4,3,3,4,5,3,4,1,4,5,3,1,5,5,6,3,4,6,5,1,6,4,1,4,6,5,5,5,6,4,4,3\"\n",
      "852,436,\"1,0,5,5,2,4,0,2,3,1,4,2,1,1,5,4,0,4,1,3,2,2,0,5,3,4,2,4,1,5,3,3,2,2,4,4,5,6,5,2,2,6,4,4,5,0,3,6,2,3,0,5,3,3,2,5,1,2,5,3,4,3,2,4,0,5,0,2,2,4,2,2,0,2,5,2,3,3,1,0,4,3,4,1,2,0,3,4,0,0,1,0,3,1,3,6,0,4,1,0,1,4,1,3,0,5,1,3,0,1,3,0,4,2,0,0,3,1,4,1,1,5,2,5,1,3,2,1,1,4,4,6,6,0,1,1,0,1,2,5,0,2,2,4,4,1,0,1,6,1,2,4,1,4,4,2,2,0,1,2,1,2,0,6,1,0,1,0,5,6,0,4,6,4,3,1,3,6,2,6,0,1,2,5,1,1,2,1,2,5,5,4,5,2,1,1,1,0,5,0,2,1,2,1,5,1,0,3,3,4,6,1,5,1,0,1,0,0,2,0,4,0,5,3,6,6,4,2,0,0,2,1,0,6,0,2,1,1,2,2,2,4,5,2,2,0,2,6,1,2,5,1,1,6,2,3,5,1,4,0,0,3,6,0,2,6,2,0,5,0,0,5,4,5,2,0,1,5,1,2,1,4,1,3,1,0,3,1,1,6,4,6,6,5,0,4,4,4,1,3,6,1,0,2,2,5,3,2,1,0,2,5,5,3,2,2,5,6,3,2,2,5,5,2,3,3,6,5,5,5,3,6,4,3,4,3,1,3,5,2,4,4,3,5,3,5,2,5,1,1,4,6,1,2,1,2,2,5,3,1,1,3,5,5,1,3,3,4,5,3,3,1,1,5,2,4,8,4,6,6,2,2,5,4,5,2,6,5,1,5,1,1,3,4,5,4,1,3,1,5,2,2,3,4,3,2,5,1,6,6,3,1,4,5,5,5,6,5,1,4,4,1,5,4,5,1,6,1,3,5,3,3,5,3,5,5\"\n",
      "909,474,\"4,6,5,1,2,3,3,2,1,3,0,3,3,0,5,0,3,0,1,5,1,5,1,0,2,2,0,3,3,1,0,6,4,3,2,4,0,1,1,1,0,0,4,5,2,1,3,0,4,4,0,5,0,2,0,3,0,5,5,0,0,6,1,3,2,2,4,4,4,3,4,3,2,5,6,3,0,2,0,0,2,1,0,4,4,2,0,5,6,1,3,0,5,2,1,0,6,0,0,6,5,5,5,0,4,0,1,2,2,0,1,1,5,5,0,4,2,5,4,1,0,0,1,2,1,0,4,6,5,5,3,1,1,2,4,0,4,4,5,0,2,2,5,0,2,2,0,2,5,3,3,1,0,4,0,0,4,2,9,5,5,2,0,0,1,2,0,3,5,0,0,2,6,0,0,0,5,0,2,3,0,0,4,1,4,0,3,3,0,0,1,0,4,0,1,4,3,2,1,2,0,4,0,0,3,5,3,4,1,0,6,2,4,0,4,2,0,5,3,1,0,3,5,2,0,2,2,6,5,3,1,5,0,5,1,1,6,2,3,0,4,2,0,6,1,0,6,1,5,5,3,1,5,5,3,2,0,1,1,3,3,1,0,5,0,3,1,1,0,0,1,1,5,4,2,2,6,5,5,1,2,6,6,4,6,0,3,2,2,3,2,4,0,0,6,4,0,3,0,4,4,5,4,1,2,4,3,0,4,6,1,3,5,5,3,1,1,2,6,3,3,3,3,6,4,5,3,3,3,4,1,1,6,6,6,2,1,1,6,2,4,1,5,3,6,2,3,5,6,5,1,4,4,4,2,5,1,4,1,5,1,6,2,6,3,1,2,2,1,1,5,5,1,2,4,6,2,4,5,1,3,1,1,2,2,2,5,4,4,8,2,5,2,5,2,4,4,2,4,6,1,4,4,1,1,3,4,1,5,4,1,5,3,1,2,3,4,5,2,5,5,3,5,1,2,3,2,1,3,4,3,4,6,4,6,4,5,5,4,4,3,5,4,6,4,3,3,3,3,3,6,3,3,3,4,4,6,4,3,3,6,3,3,6,6,4,6,4,4,4,4,3,3,4\"\n",
      "1300,324,\"1,1,0,5,4,6,4,3,0,2,3,1,5,5,0,5,6,6,5,4,0,4,5,1,6,1,0,2,2,6,2,0,5,2,1,3,4,0,5,4,3,4,3,4,1,4,1,1,5,0,0,6,0,0,4,0,3,1,1,1,5,5,1,5,0,2,0,0,4,3,2,4,5,2,0,1,0,5,3,5,0,1,4,5,6,0,2,2,2,0,6,0,1,2,0,6,5,3,5,0,0,3,0,0,0,0,1,4,4,4,1,1,6,5,6,1,0,0,3,4,0,1,4,3,5,4,4,4,0,0,2,2,4,5,1,0,2,2,6,0,5,0,1,6,0,6,1,1,6,3,4,2,4,3,3,2,0,3,2,3,0,0,3,1,0,3,2,1,0,5,5,6,0,0,2,4,5,5,5,5,0,5,5,4,2,1,1,4,6,6,2,3,0,4,3,1,5,4,0,2,0,4,2,0,0,4,5,1,0,4,5,0,2,2,3,0,3,5,3,1,5,1,2,3,0,5,1,0,1,2,5,1,0,5,6,4,2,2,3,0,2,0,4,1,1,5,0,4,3,0,0,4,0,2,4,3,3,4,2,0,3,3,1,5,2,5,2,1,3,3,0,3,3,4,0,0,5,1,4,6,1,1,2,1,4,1,5,0,1,0,0,5,4,0,0,4,0,5,6,2,3,3,4,2,0,0,1,2,5,0,6,5,5,3,1,1,6,4,1,4,5,4,4,6\"\n",
      "473,450,\"4,0,2,5,0,0,1,1,3,0,6,2,2,2,0,6,4,2,1,1,5,0,2,2,0,1,0,5,5,0,4,0,1,4,3,3,5,4,5,5,2,5,3,4,0,2,4,3,5,0,3,2,0,0,5,0,4,0,0,1,0,1,4,5,0,0,4,2,0,3,0,2,4,4,0,6,0,0,1,3,2,5,3,5,1,3,4,1,6,1,2,5,3,0,3,9,1,1,1,3,6,2,0,2,0,1,5,0,4,6,5,0,3,5,0,5,1,2,0,0,1,1,0,0,2,5,0,0,0,5,2,0,2,3,2,3,5,0,5,0,2,2,1,4,5,2,1,2,1,5,4,2,1,1,5,3,5,4,0,4,4,0,1,1,2,0,4,3,1,1,0,3,3,2,5,0,1,5,5,4,3,2,6,0,6,0,6,5,5,0,1,2,0,0,0,5,2,1,0,2,3,6,1,1,0,4,6,0,0,2,4,2,3,1,5,0,0,1,0,5,5,0,2,3,0,4,0,0,3,0,5,5,4,6,6,0,0,6,2,5,0,0,5,1,6,1,0,1,2,2,2,1,2,5,0,3,2,6,3,3,1,1,2,0,2,6,1,1,1,6,2,2,2,2,5,5,2,2,5,1,5,2,4,0,5,4,5,3,2,1,1,3,0,0,4,6,0,5,0,4,5,6,5,1,0,5,4,5,1,5,2,2,5,5,2,4,2,1,2,4,2,5,5,5,1,4,6,2,2,3,5,1,6,1,1,1,2,3,1,1,2,5,4,2,5,1,6,1,5,5,3,1,4,2,1,1,4,5,2,1,5,5,5,4,5,4,5,4,3,5,2,8,1,6,2,3,5,3,2,1,1,1,5,4,3,2,6,1,5,4,5,4,5,1,1,5,4,3,1,6,4,4,3,6,5,4,1,1,4,4,2,2,5,5,1,1,3,5,6,3,4,4,1,2,2,2,1,5,5,5,5,5,3,5,5,5,5,4,4,4,4,3,3,6,3,3,3,6,6,4\"\n"
     ]
    }
   ],
   "source": [
    "sims = 10 # feel free to increase; depending on your system, each will run in around 0.5-1.5 seconds\n",
    "\n",
    "for i in range(sims):\n",
    "    round = do_round()\n",
    "    print( round[0],round[1],'\"' + ','.join(map(str,round[2])) + '\"',sep=\",\" )"
   ]
  },
  {
   "cell_type": "markdown",
   "metadata": {},
   "source": [
    "The simulation isn't terribly fast. Depending on the system I used, each Collector's Vault \"round\" took between 0.5 and 1.5 seconds to calculate. I'm sure there are optimizations that could be made, or that programming in C rather than Python would improve the speed significantly. "
   ]
  },
  {
   "cell_type": "markdown",
   "metadata": {},
   "source": [
    "## basic results\n",
    "\n",
    "For the final analysis, I ran the program over a day and calculated the outcomes of 100,000 Collector's Vaults, output in the above format to a text file that was about 80 megabytes (but, of course, has a lot of repetitive text and thus compresses well enough to be included [in the releases](https://github.com/therealchjones/collector-sim/releases)). Running the basic statistics on the file isn't terribly complicated:"
   ]
  },
  {
   "cell_type": "code",
   "execution_count": 8,
   "metadata": {},
   "outputs": [
    {
     "name": "stdout",
     "output_type": "stream",
     "text": [
      "Vaults: 100000\n",
      "Wins: 72 (0.072%, about 1 in 1388.888888888889)\n",
      "Mean turns (cost): 380.20301 (9505075.25 gold)\n",
      "Median turns (cost): 399.0 (9975000.0 gold)\n",
      "Std. deviation of turns (cost): 86.12272399416882 (2153068.0998542206 gold)\n",
      "Mean items acquired:\n",
      "Norn Stone of each type x15: 70.13703 (0.18447257953060392%)\n",
      "Rank 1 Black Anti-Matter x5: 61.53212 (0.1618401705972817%)\n",
      "Norn Stone of Chaos x5: 61.5002 (0.16175621544921487%)\n",
      "Gear Up Kit x25: 49.97103 (0.13143249444553318%)\n",
      "Dimension Debris x30: 50.01463 (0.13154717002371968%)\n",
      "3* Type Enhancement Kit x3: 59.09589 (0.15543246225220572%)\n",
      "3* Enchanted Uru x1: 26.92248 (0.07081080183978554%)\n",
      "Tier-2 Mega Advancement Ticket x1: 0.00191 (5.023631980188689e-06%)\n",
      "Titan Component Pack x40: 0.53449 (0.0014058016005712318%)\n",
      "Essence of Dimension x50: 0.30923 (0.0008133286477663604%)\n",
      "Cosmic Cube Fragment x60: 0.15377 (0.0004044418270123637%)\n",
      "Extreme Obelisk x1: 0.03023 (7.951015432518538e-05%)\n"
     ]
    }
   ],
   "source": [
    "import csv\n",
    "from statistics import mean, median, stdev\n",
    "\n",
    "file_name = \"output-100000\"\n",
    "\n",
    "rounds = 0\n",
    "wins = 0\n",
    "turns = []\n",
    "items_per_turn = [[] for i in range(len(ctp_items))]\n",
    "\n",
    "with open(file_name, \"r\") as file:\n",
    "    table = csv.reader(file)\n",
    "    for round in table:\n",
    "        items_won = [0] * len(ctp_items)\n",
    "        rounds += 1\n",
    "        if round[0] == \"0\":\n",
    "            wins += 1\n",
    "        turns.append(int(round[1]))\n",
    "        items_this_round = list(map(int,round[2].split(',')))\n",
    "        for i in items_this_round:\n",
    "            items_won[i] = items_won[i] + 1\n",
    "        for i in range(len(items_won)):\n",
    "            items_per_turn[i].append(items_won[i])\n",
    "\n",
    "print(f'Vaults: {rounds}')\n",
    "if wins > 0:\n",
    "    print(f'Wins: {wins} ({100.0 * wins / rounds}%, about 1 in {1.0 * rounds/wins})')\n",
    "else:\n",
    "    print('No wins.')\n",
    "print(f'Mean turns (cost): {mean(turns)} ({mean(turns) * price} gold)')\n",
    "print(f'Median turns (cost): {median(turns)} ({median(turns) * price} gold)')\n",
    "print(f'Std. deviation of turns (cost): {stdev(turns)} ({stdev(turns) * price} gold)')\n",
    "print(f'Mean items acquired:')\n",
    "for i in range(len(items_per_turn)):\n",
    "    print(f'{ctp_items[i][0]}: {mean(items_per_turn[i])} ({mean(items_per_turn[i])/mean(turns)}%)')"
   ]
  },
  {
   "cell_type": "markdown",
   "metadata": {},
   "source": [
    "The basics also aren't terribly surprising:\n",
    "- You have the same chance to \"win\" as everyone else, so the chances you'll get the big prize is about 1 in 1,500, the same as getting chosen randomly from the list of players\n",
    "- The number of turns (or purchases) it takes to win is pretty variable, but centers on just under 400, or about 10 million gold. Again, assuming you all start at the same time and go the same speed, this is what you and all the other players spend even if you don't win. (This average required number of turns can be calculated from the probabilities of getting the 4 \"memento\" items, but overestimates the result. See [Why we simulate](#why-we-simulate).)\n",
    "- The amount of stuff you get is modest. More details (including a more readable breakdown of quantities) are available in [Choosing a Vault](#choosing-a-vault)."
   ]
  },
  {
   "cell_type": "markdown",
   "metadata": {},
   "source": [
    "## making decisions\n",
    "\n",
    "Knowledge is great, and certainly this is pretty good evidence that it may not be worth playing the Collector's Vault if you're not willing to spend about 10 million gold. But is there any more useful advice about how to play? \n",
    "\n",
    "### playing against the assumptions\n",
    "\n",
    "First, let's check our [assumptions](#the-assumptions)\n",
    "1. Though we've focused on the case where the vault is full, the chances of winning is about the same as the chances of being randomly selected from all the users who join. Therefore, if you join a vault that has (and is expected to continue to have) fewer users, you have a higher chance of winning.\n",
    "2. Similarly, if most users are going to join late (is everybody playing Alliance Conquest or World Event?), you may have the advantage of getting more turns to yourself early on. Along the same lines (though probably more difficult to guess) if you've got a particularly good connection to the Netmarble servers you may be able to take turns more quickly than others. All these will result in more turns (and thus more spending) for you, with some minor increase in the chances of winning. \n",
    "\n",
    "We can check all of these possibilities by just giving some players fewer turns. Let's take our same 1500 players (remember, you're number 0) and suppose, say, half of them don't start until the others have already taken 100 turns:"
   ]
  },
  {
   "cell_type": "code",
   "execution_count": 10,
   "metadata": {},
   "outputs": [
    {
     "name": "stdout",
     "output_type": "stream",
     "text": [
      "Vaults: 1000\n",
      "No wins.\n",
      "Mean turns (cost): 424.126 (10603150.0 gold)\n",
      "Median turns (cost): 444.5 (11112500.0 gold)\n",
      "Std. deviation of turns (cost): 93.94554747240494 (2348638.6868101233 gold)\n",
      "Mean items acquired:\n",
      "Norn Stone of each type x15: 81.07 (0.19114602735979402%)\n",
      "Rank 1 Black Anti-Matter x5: 68.337 (0.16112428853689706%)\n",
      "Norn Stone of Chaos x5: 68.61 (0.16176796518015873%)\n",
      "Gear Up Kit x25: 55.181 (0.1301052045854298%)\n",
      "Dimension Debris x30: 55.027 (0.12974210494051297%)\n",
      "3* Type Enhancement Kit x3: 65.015 (0.15329171048226237%)\n",
      "3* Enchanted Uru x1: 29.704 (0.07003579125071324%)\n",
      "Tier-2 Mega Advancement Ticket x1: 0.002 (4.7155798041148155e-06%)\n",
      "Titan Component Pack x40: 0.631 (0.001487765428198224%)\n",
      "Essence of Dimension x50: 0.344 (0.0008110797263077481%)\n",
      "Cosmic Cube Fragment x60: 0.164 (0.00038667754393741484%)\n",
      "Extreme Obelisk x1: 0.041 (9.666938598435371e-05%)\n"
     ]
    }
   ],
   "source": [
    "# Warning: change or re-run this cell if you wish, but as written it'll take\n",
    "# around 10-20 minutes to duplicate the currently saved output\n",
    "\n",
    "def do_underfilled_round():\n",
    "    winner = -1\n",
    "    turns = -1\n",
    "    users_items = [[] for i in range(users)]\n",
    "    round_items = ctp_items.copy()\n",
    "    for turn in range(3600*100):\n",
    "        random.shuffle(user_nums)\n",
    "        for user_num in user_nums:\n",
    "            if user_num % 2 == 0 or turn > 99:\n",
    "                if add_user_item( user_num, get_item(round_items), users_items):\n",
    "                    turns = len(users_items[0])\n",
    "                    winner = user_num\n",
    "                    break\n",
    "        if turns >= 0:\n",
    "            break\n",
    "    return (winner,turns,users_items[0])\n",
    "\n",
    "underfilled_sims = 1000\n",
    "\n",
    "underfilled_rounds = 0\n",
    "underfilled_wins = 0\n",
    "underfilled_turns = []\n",
    "underfilled_items = [[] for i in range(len(ctp_items))]\n",
    "for i in range(underfilled_sims):\n",
    "    round = do_underfilled_round()\n",
    "    items_won = [0] * len(ctp_items)\n",
    "    underfilled_rounds += 1\n",
    "    if round[0] == \"0\":\n",
    "        underfilled_wins += 1\n",
    "    underfilled_turns.append(round[1])\n",
    "    for i in round[2]:\n",
    "        items_won[i] = items_won[i] + 1\n",
    "    for i in range(len(items_won)):\n",
    "        underfilled_items[i].append(items_won[i])\n",
    "\n",
    "print(f'Vaults: {underfilled_rounds}')\n",
    "if underfilled_wins > 0:\n",
    "    print(f'Wins: {underfilled_wins} ({100.0 * underfilled_wins / underfilled_rounds}%, about 1 in {1.0 * underfilled_rounds/underfilled_wins})')\n",
    "else:\n",
    "    print('No wins.')\n",
    "print(f'Mean turns (cost): {mean(underfilled_turns)} ({mean(underfilled_turns) * price} gold)')\n",
    "print(f'Median turns (cost): {median(underfilled_turns)} ({median(underfilled_turns) * price} gold)')\n",
    "print(f'Std. deviation of turns (cost): {stdev(underfilled_turns)} ({stdev(underfilled_turns) * price} gold)')\n",
    "print(f'Mean items acquired:')\n",
    "for i in range(len(underfilled_items)):\n",
    "    print(f'{ctp_items[i][0]}: {mean(underfilled_items[i])} ({mean(underfilled_items[i])/mean(underfilled_turns)}%)')"
   ]
  },
  {
   "cell_type": "markdown",
   "metadata": {},
   "source": [
    "Sure enough, more turns, more gold, and the chances of winning are small enough that it's probably not an appreciable difference. (If it were 1/750 instead of 1/1500, would it make a practical difference to you?)"
   ]
  },
  {
   "cell_type": "markdown",
   "metadata": {},
   "source": [
    "### choosing a vault\n",
    "\n",
    "If it's very unlikely we'll win the \"big prize\", is it worth playing at all? Some will no doubt argue \"you can't win if you don't play\". Objectively, let's see what you get for your money:"
   ]
  },
  {
   "cell_type": "markdown",
   "metadata": {},
   "source": [
    "As noted in the [basic results](#basic-results), we've got the items we'll acquire (on average) from a single Vault. To make the quantities more understandable, though, we'll have to take the number of each item times the number of times we get that item:"
   ]
  },
  {
   "cell_type": "code",
   "execution_count": 11,
   "metadata": {},
   "outputs": [
    {
     "name": "stdout",
     "output_type": "stream",
     "text": [
      "Norn Stone of each type: 1052.0554499999998\n",
      "Rank 1 Black Anti-Matter: 307.6606\n",
      "Norn Stone of Chaos: 307.501\n",
      "Gear Up Kit: 1249.27575\n",
      "Dimension Debris: 1500.4388999999999\n",
      "3* Type Enhancement Kit: 177.28767\n",
      "3* Enchanted Uru: 26.92248\n",
      "Tier-2 Mega Advancement Ticket: 0.00191\n",
      "Titan Component Pack: 21.3796\n",
      "Essence of Dimension: 15.461500000000001\n",
      "Cosmic Cube Fragment: 9.226199999999999\n",
      "Extreme Obelisk: 0.03023\n"
     ]
    }
   ],
   "source": [
    "def get_item_quantity( item_index, items_acquired):\n",
    "    item_description = str(ctp_items[item_index][0])\n",
    "    [item_name, item_number] = item_description.split(\" x\")\n",
    "    item_number = int(item_number)\n",
    "    return ( item_name, item_number * items_acquired)\n",
    "\n",
    "def list_acquired_items(acquired_items):\n",
    "    for i in range(len(acquired_items)):\n",
    "        (name, number) = get_item_quantity( i, mean(acquired_items[i]))\n",
    "        print( f'{name}: {str(number)}')\n",
    "\n",
    "list_acquired_items(items_per_turn)"
   ]
  },
  {
   "cell_type": "markdown",
   "metadata": {},
   "source": [
    "So for your 10 million gold, about a thousand random Norn, a few hundred Chaos Norn & Black Anti-Matter, and a handful of T2/T3 material. Not great, but honestly a little better than I expected.\n",
    "\n",
    "What if instead we decided to use the other Vault?"
   ]
  },
  {
   "cell_type": "code",
   "execution_count": 12,
   "metadata": {},
   "outputs": [
    {
     "name": "stdout",
     "output_type": "stream",
     "text": [
      "Gear Up Kit: 1402.7405999999999\n",
      "Dimension Debris: 1230.6424\n",
      "Norn Stone of each type: 922.503\n",
      "Rank 1 Black Anti-Matter: 249.85514999999998\n",
      "Norn Stone of Chaos: 250.07315\n",
      "3* ISO-8: 59.09589\n",
      "Lv. 2 Artifact: 26.92248\n",
      "Mega Uniform Upgrade Ticket: Mythic: 0.00191\n",
      "Essence of Dimension: 21.3796\n",
      "Cosmic Cube Fragment: 15.461500000000001\n",
      "Titan Component Pack: 9.226199999999999\n",
      "6* Rank Up Ticket: 0.03023\n"
     ]
    }
   ],
   "source": [
    "def get_artifact_item_quantity( item_index, items_acquired):\n",
    "    item_description = str(artifact_items[item_index][0])\n",
    "    [item_name, item_number] = item_description.split(\" x\")\n",
    "    item_number = int(item_number)\n",
    "    return ( item_name, item_number * items_acquired)\n",
    "\n",
    "def list_artifact_acquired_items(acquired_items):\n",
    "    for i in range(len(acquired_items)):\n",
    "        (name, number) = get_artifact_item_quantity( i, mean(acquired_items[i]))\n",
    "        print( f'{name}: {str(number)}')\n",
    "\n",
    "list_artifact_acquired_items(items_per_turn)"
   ]
  },
  {
   "cell_type": "markdown",
   "metadata": {},
   "source": [
    "A little lighter on BAM & Chaos Norn, ISO-8 & Artifact fodder instead of TEK & Uru, and the T2/T3 material quantities are small enough the differences probably don't matter. (If you need a couple of hundred extra GUK for your 10 million, by all means choose this one.)"
   ]
  },
  {
   "cell_type": "markdown",
   "metadata": {},
   "source": [
    "Finally, of course, the big question whose result is a surprise to, well, nobody:\n",
    "\n",
    "<a id=\"should-you-play-collectors-vault\"></a>\n",
    "## should you play collector's vault?\n",
    "\n",
    "It's entirely up to you. There's a 1 in 1,500 chance you'll win the big prize for 10 million gold. The materials you get aren't usually available for gold in the shop, and certainly spending the gold here is better than spending crystals in the shop, but none of the ones you're likely to get are at all hard to come by during regular game play.\n",
    "\n",
    "If you are going to play it, start as soon as the vault opens, use the \"Auto Purchase\" function and buy stuff as quickly as you can, and choose the vault based on whether you'd prefer to get low-level Uru & TEK or low-level Artifacts & ISO.\n",
    "\n",
    "All of which you could probably have figured out without a simulation."
   ]
  },
  {
   "cell_type": "markdown",
   "metadata": {},
   "source": [
    "## why we simulate\n",
    "\n",
    "As noted in the [basic results](#basic-results), it's possible to calculate (or at least estimate) many of the results with basic statistics rather than using a simulation. For instance, we can estimate how many turns are needed to \"finish\" a Vault by calculating the probability of some user having all 4 \"memento\" items after *n* turns:"
   ]
  },
  {
   "cell_type": "code",
   "execution_count": 13,
   "metadata": {},
   "outputs": [
    {
     "name": "stdout",
     "output_type": "stream",
     "text": [
      "Average number of turns: 472\n"
     ]
    }
   ],
   "source": [
    "p_1 = 0.001248\n",
    "p_2 = 0.000720\n",
    "p_3 = 0.000360\n",
    "p_4 = 0.000072\n",
    "\n",
    "# probability of getting a specific item within n turns\n",
    "# is 1 - (probability of not getting that item in n turns)\n",
    "def p_n( p, n ):\n",
    "    return 1 - (1-p)**n\n",
    "\n",
    "# probability of getting item a and item b within n turns\n",
    "# is p_n(a) * p_n(b)\n",
    "def p_all(n):\n",
    "    return p_n(p_1, n) * p_n(p_2, n) * p_n(p_3,n) * p_n(p_4, n)\n",
    "\n",
    "# the round ends when any of the users gets all 4, so the average number\n",
    "# of turns it takes is when the chance of having all 4 is about\n",
    "# 1 / number of users\n",
    "for i in range(1000):\n",
    "    if p_all(i) > 1.0/users:\n",
    "        print (f'Average number of turns: {i}')\n",
    "        break"
   ]
  },
  {
   "cell_type": "markdown",
   "metadata": {},
   "source": [
    "However, we can see that this appears to overestimate the number of turns required (around 400); that's because it doesn't take into account other (non-memento) items running out (and thus increasing the probability of getting the memento items) as the number of turns increases. In addition, this doesn't calculate what you are likely to acquire, just what you're likely to spend. These are two of the benefits of using the simulation."
   ]
  },
  {
   "cell_type": "markdown",
   "metadata": {},
   "source": [
    "## see also\n",
    "\n",
    "Simulating stuff for an inconsequential game or otherwise using data for frivolous decision making isn't for everyone. If it interests you, though, consider checking out the stuff in the [datamine section of the MFF subreddit](https://www.reddit.com/r/future_fight/?f=flair_name%3A%22Leak%20%2F%20Datamine%22) and other work by [u/OwO_PinkChode_OwO](https://www.reddit.com/user/OwO_PinkChode_OwO/) (including simulations of costs for advancement and much more) at https://21000dollor.com."
   ]
  },
  {
   "cell_type": "markdown",
   "metadata": {},
   "source": [
    "## development\n",
    "\n",
    "This project is available [on GitHub](https://github.com/therealchjones/collector-sim) (though this notebook is best viewed <a id=\"nbviewer-link\" href=\"https://nbviewer.org/github/therealchjones/collector-sim/blob/master/Collector%27s%20Vault.ipynb\">on nbviewer.org</a>)). Instructions for downloading the associated files, including all source code, are in the [README](https://github.com/therealchjones/collector-sim/blob/master/README.md). \n",
    "\n",
    "<script>\n",
    "  var urlBits = window.location.href.split('/');\n",
    "  var revision = null;\n",
    "  for ( let i = 0; i < urlBits.length; i++ ) {\n",
    "    if ( urlBits[i] == \"blob\" && urlBits.length > i+1 ) revision = urlBits[i+1];\n",
    "  }\n",
    "  if ( revision ) {\n",
    "    document.getElementById(\"nbviewer-link\").setAttribute(\n",
    "      \"href\",\n",
    "      \"https://nbviewer.org/github/therealchjones/collector-sim/blob/\"\n",
    "      + revision\n",
    "      + \"Collecto%27s%20Vault.ipynb\"\n",
    "    );\n",
    "  }\n",
    "</script>\n",
    "\n",
    "## copyright\n",
    "\n",
    "  <a rel=\"license\"\n",
    "     href=\"http://creativecommons.org/publicdomain/zero/1.0/\">\n",
    "    <img src=\"http://i.creativecommons.org/p/zero/1.0/88x31.png\" style=\"border-style: none;\" alt=\"CC0\" />\n",
    "  </a>\n",
    "  <br />\n",
    "  To the extent possible under law,\n",
    "  <a rel=\"dct:publisher\"\n",
    "     href=\"https://github.com/therealchjones\">\n",
    "    <span property=\"dct:title\">Christian Jones</span></a>\n",
    "  has waived all copyright and related or neighboring rights to\n",
    "  <span property=\"dct:title\">Simulating the Collector's Vault</span>.\n",
    "This work is published from:\n",
    "<span property=\"vcard:Country\" datatype=\"dct:ISO3166\"\n",
    "      content=\"US\" about=\"https://github.com/therealchjones\">\n",
    "  United States</span>."
   ]
  }
 ],
 "metadata": {
  "kernelspec": {
   "display_name": "Python 3 (ipykernel)",
   "language": "python",
   "name": "python3"
  },
  "language_info": {
   "codemirror_mode": {
    "name": "ipython",
    "version": 3
   },
   "file_extension": ".py",
   "mimetype": "text/x-python",
   "name": "python",
   "nbconvert_exporter": "python",
   "pygments_lexer": "ipython3",
   "version": "3.10.3"
  },
  "vscode": {
   "interpreter": {
    "hash": "841c123e8ca4b608b109c0d85da4ba53672ef2e2472d14cf5680e23f691f677b"
   }
  }
 },
 "nbformat": 4,
 "nbformat_minor": 2
}
